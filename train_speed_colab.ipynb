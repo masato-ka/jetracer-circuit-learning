{
  "nbformat": 4,
  "nbformat_minor": 0,
  "metadata": {
    "colab": {
      "name": "train-speed-colab.ipynb",
      "provenance": [],
      "collapsed_sections": [],
      "authorship_tag": "ABX9TyNmQdL3+7QLtse6jH1n65yF",
      "include_colab_link": true
    },
    "kernelspec": {
      "name": "python3",
      "display_name": "Python 3"
    },
    "accelerator": "GPU"
  },
  "cells": [
    {
      "cell_type": "markdown",
      "metadata": {
        "id": "view-in-github",
        "colab_type": "text"
      },
      "source": [
        "<a href=\"https://colab.research.google.com/github/masato-ka/jetracer-circuit-learning/blob/master/train_speed_colab.ipynb\" target=\"_parent\"><img src=\"https://colab.research.google.com/assets/colab-badge.svg\" alt=\"Open In Colab\"/></a>"
      ]
    },
    {
      "cell_type": "code",
      "metadata": {
        "id": "tiKn_9AgbePu",
        "colab_type": "code",
        "colab": {}
      },
      "source": [
        "from google.colab import drive \n",
        "drive.mount('/content/drive')"
      ],
      "execution_count": 0,
      "outputs": []
    },
    {
      "cell_type": "code",
      "metadata": {
        "id": "s9q_SR3d_M9o",
        "colab_type": "code",
        "colab": {}
      },
      "source": [
        "!cp '/content/drive/My Drive/circuit_log_20191202_clean.zip' ./\n",
        "!unzip -q circuit_log_20191202_clean.zip"
      ],
      "execution_count": 0,
      "outputs": []
    },
    {
      "cell_type": "code",
      "metadata": {
        "id": "KrJM0IBUbblY",
        "colab_type": "code",
        "colab": {}
      },
      "source": [
        "import torchvision\n",
        "\n",
        "transform = torchvision.transforms.Compose([\n",
        "    torchvision.transforms.ColorJitter(0.2, 0.2, 0.2, 0.2),\n",
        "    torchvision.transforms.Resize((224, 224)),\n",
        "    torchvision.transforms.ToTensor(),\n",
        "    torchvision.transforms.Normalize([0.485, 0.456, 0.406], [0.229, 0.224, 0.225])\n",
        "])"
      ],
      "execution_count": 0,
      "outputs": []
    },
    {
      "cell_type": "code",
      "metadata": {
        "id": "qeKt6VYfcl3B",
        "colab_type": "code",
        "colab": {}
      },
      "source": [
        "import os\n",
        "import glob\n",
        "import shutil\n",
        "import numpy as np\n",
        "#Adjustment for circuit size and FPS.\n",
        "NUM_TIMESTEPS = 10\n",
        "NEW_CIRCUIT_LOG = 'reformat_circuit_log'\n",
        "CIRCUIT_LOG = 'circuit_log'\n",
        "\n",
        "os.makedirs(NEW_CIRCUIT_LOG, exist_ok=True)\n",
        "image_paths = sorted(glob.glob(os.path.join(CIRCUIT_LOG, '*.jpg')))\n",
        "num_timesteps = NUM_TIMESTEPS\n",
        "gain = np.exp(-3e-2 * np.linspace(0.0, num_timesteps, num_timesteps))\n",
        "\n",
        "for idx in range(len(image_paths)-num_timesteps):\n",
        "\n",
        "    target = np.zeros(num_timesteps)\n",
        "    label = None\n",
        "    for i in range(num_timesteps):\n",
        "        path = os.path.splitext(os.path.basename(image_paths[idx + i]))[0]\n",
        "        x = float(int(path.split('_')[1]) - 50) / 50.0\n",
        "        target[i] = x if abs(x) > 0.20 else 0\n",
        "    label = np.sum(gain * np.abs(target) / np.sum(gain))\n",
        "    if label is None:\n",
        "        print(\"[ERROR] Break! failed create label on \" + file_name)\n",
        "        break\n",
        "    str_label = str(label).replace('.','-')\n",
        "    prifix_filename = os.path.basename(image_paths[idx]).split('_')[0]\n",
        "    rename_file = prifix_filename + '_' + str_label + '.jpg'\n",
        "    shutil.copy(image_paths[idx], os.path.join(NEW_CIRCUIT_LOG, rename_file))"
      ],
      "execution_count": 0,
      "outputs": []
    },
    {
      "cell_type": "code",
      "metadata": {
        "id": "8wTDiaduBtGD",
        "colab_type": "code",
        "colab": {}
      },
      "source": [
        "import torch.utils.data\n",
        "import os\n",
        "import PIL.Image\n",
        "import torch\n",
        "import glob\n",
        "\n",
        "class CircuitDataset(torch.utils.data.Dataset):\n",
        "    def __init__(self, directory, gamma=5e-3, transform=None):\n",
        "        self.directory = directory\n",
        "        self.image_paths = sorted(glob.glob(os.path.join(self.directory, '*.jpg')))\n",
        "        self.transform = transform\n",
        "        #self.gain = torch.exp(-3e-2*torch.linspace(0.0, num_timesteps, num_timesteps))\n",
        "        self.color_jitter = torchvision.transforms.ColorJitter(0.3, 0.3, 0.3, 0.3)\n",
        "\n",
        "    def __len__(self):\n",
        "        return len(self.image_paths) - NUM_TIMESTEPS\n",
        "    \n",
        "    def __getitem__(self, idx):\n",
        "        image_path = self.image_paths[idx]        \n",
        "        image = PIL.Image.open(image_path)\n",
        "        # if self.transform is not None:\n",
        "        #     image = self.transform(image)\n",
        "\n",
        "        image = self.color_jitter(image)\n",
        "        image = torchvision.transforms.functional.resize(image, (224, 224))\n",
        "        image = torchvision.transforms.functional.to_tensor(image)\n",
        "        image = image.numpy()[::-1].copy()\n",
        "        image = torch.from_numpy(image)\n",
        "        image = torchvision.transforms.functional.normalize(image, [0.485, 0.456, 0.406], [0.229, 0.224, 0.225])\n",
        "\n",
        "        slottle = float(os.path.basename(image_path).split('_')[1].split('.')[0].replace('-','.'))\n",
        "        \n",
        "        return image, torch.tensor([slottle]).float()\n"
      ],
      "execution_count": 0,
      "outputs": []
    },
    {
      "cell_type": "code",
      "metadata": {
        "id": "WkveeJWTBxH4",
        "colab_type": "code",
        "colab": {}
      },
      "source": [
        "dataset = CircuitDataset(NEW_CIRCUIT_LOG, gamma=1e-2, transform=transform)"
      ],
      "execution_count": 0,
      "outputs": []
    },
    {
      "cell_type": "code",
      "metadata": {
        "id": "pOYX7qK6Bzjh",
        "colab_type": "code",
        "colab": {}
      },
      "source": [
        "import torch\n",
        "train = torch.utils.data.DataLoader(\n",
        "    dataset,\n",
        "    batch_size=32,\n",
        "    shuffle=True,\n",
        "    num_workers=4\n",
        ")\n",
        "\n",
        "test = torch.utils.data.DataLoader(\n",
        "    dataset,\n",
        "    batch_size=32,\n",
        "    shuffle=True,\n",
        "    num_workers=4\n",
        ")"
      ],
      "execution_count": 0,
      "outputs": []
    },
    {
      "cell_type": "code",
      "metadata": {
        "id": "ZwYJIyDRbgO2",
        "colab_type": "code",
        "colab": {}
      },
      "source": [
        "import torch \n",
        "\n",
        "model = torchvision.models.resnet18(pretrained=True)\n",
        "model.fc = torch.nn.Linear(512, 1)\n",
        "\n",
        "device = torch.device('cuda')\n",
        "model = model.to(device)"
      ],
      "execution_count": 0,
      "outputs": []
    },
    {
      "cell_type": "code",
      "metadata": {
        "id": "u09fFQ0qcMSb",
        "colab_type": "code",
        "colab": {}
      },
      "source": [
        "optimizer = torch.optim.Adam(model.parameters())"
      ],
      "execution_count": 0,
      "outputs": []
    },
    {
      "cell_type": "code",
      "metadata": {
        "id": "VZ6iOEoDC_z8",
        "colab_type": "code",
        "colab": {}
      },
      "source": [
        "%load_ext tensorboard\n",
        "%tensorboard --logdir ./runs"
      ],
      "execution_count": 0,
      "outputs": []
    },
    {
      "cell_type": "code",
      "metadata": {
        "id": "gdfQvyjkBzm7",
        "colab_type": "code",
        "colab": {}
      },
      "source": [
        "from torch.utils.tensorboard import SummaryWriter\n",
        "writer = SummaryWriter()\n",
        "import torch.nn.functional as F\n",
        "\n",
        "EPOCHS = 10\n",
        "model.train()\n",
        "best_epoch = 1e5\n",
        "for epoch in range(EPOCHS):\n",
        "    \n",
        "    epoch_loss = 0.0\n",
        "    \n",
        "    for image, target in iter(train):\n",
        "        image = image.to(device)\n",
        "        target = target.to(device)\n",
        "        optimizer.zero_grad()\n",
        "        output = model(image)\n",
        "        train_loss = F.mse_loss(output, target)\n",
        "        epoch_loss += float(train_loss)\n",
        "        train_loss.backward()\n",
        "        optimizer.step()\n",
        "        grid = torchvision.utils.make_grid(image)\n",
        "        writer.add_image('images', grid, 0)\n",
        "    epoch_loss /= len(train)\n",
        "\n",
        "    writer.add_scalar('Loss/train',epoch_loss, epoch)\n",
        "    print('%d: %f' % (epoch, epoch_loss))\n",
        "    \n",
        "    if best_epoch > epoch_loss:\n",
        "        best_epoch = epoch_loss\n",
        "        torch.save(model.state_dict(), 'circuit_model.pth')"
      ],
      "execution_count": 0,
      "outputs": []
    },
    {
      "cell_type": "code",
      "metadata": {
        "id": "pH5q-v213cFF",
        "colab_type": "code",
        "colab": {}
      },
      "source": [
        "import numpy as np\n",
        "\n",
        "mean = 255.0 * np.array([0.485, 0.456, 0.406])\n",
        "stdev = 255.0 * np.array([0.229, 0.224, 0.225])\n",
        "\n",
        "normalize = torchvision.transforms.Normalize(mean, stdev)\n",
        "\n",
        "def preprocess(image):\n",
        "    image = cv2.cvtColor(image, cv2.COLOR_BGR2RGB)\n",
        "    image = image.transpose((2, 0, 1))\n",
        "    x = torch.from_numpy(image).float()\n",
        "    x = normalize(x)\n",
        "    x = x.to(device)\n",
        "    x = x[None, ...]\n",
        "    return x"
      ],
      "execution_count": 0,
      "outputs": []
    },
    {
      "cell_type": "code",
      "metadata": {
        "id": "hXwdWEcJCoUW",
        "colab_type": "code",
        "colab": {}
      },
      "source": [
        "import cv2\n",
        "model.eval()\n",
        "\n",
        "\n",
        "BASE_SPEED = 0.06\n",
        "MAX_SPEED = 0.20\n",
        "MIN_SPEED = 0.01\n",
        "FPS = 60\n",
        "size = (224,224)\n",
        "\n",
        "images = sorted(glob.glob('/content/reformat_circuit_log/*'))\n",
        "fourcc = cv2.VideoWriter_fourcc(*'MP4V')\n",
        "writer = cv2.VideoWriter('output.mp4',fourcc, FPS, size)\n",
        "\n",
        "def get_throttle(x, accell_work = -15.0, max_speed=0.12, min_speed=0.0, base_speed=0.06):\n",
        "    x= np.clip(x, 0, 1)\n",
        "    y = np.exp(accell_work * x); \n",
        "    y = (1-y) * (MIN_SPEED) + (MAX_SPEED) * y \n",
        "    y = np.clip(y, min_speed, max_speed)\n",
        "    return y + base_speed\n",
        "\n",
        "\n",
        "for image in images:\n",
        "    image = cv2.imread(image)\n",
        "    x = preprocess(image)\n",
        "    x = model(x)\n",
        "    x = x.detach().cpu().float()[0][0].numpy()\n",
        "    throttle = get_throttle(x, accell_work=-5.0)\n",
        "    cv2.putText(image, str(throttle), (30,30), cv2.FONT_HERSHEY_SIMPLEX | cv2.FONT_ITALIC, 0.8, (0,0,0), 1, cv2.LINE_AA)\n",
        "    writer.write(image)\n",
        "    for i in range(int((0.18-throttle)*100)):\n",
        "      writer.write(image)\n",
        "writer.release()\n",
        "\n"
      ],
      "execution_count": 0,
      "outputs": []
    },
    {
      "cell_type": "code",
      "metadata": {
        "id": "QzRwFbFkEuhF",
        "colab_type": "code",
        "colab": {}
      },
      "source": [
        "!rm -rf reformat_circuit_log/"
      ],
      "execution_count": 0,
      "outputs": []
    }
  ]
}